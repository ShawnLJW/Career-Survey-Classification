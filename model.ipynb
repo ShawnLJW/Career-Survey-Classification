{
 "metadata": {
  "language_info": {
   "codemirror_mode": {
    "name": "ipython",
    "version": 3
   },
   "file_extension": ".py",
   "mimetype": "text/x-python",
   "name": "python",
   "nbconvert_exporter": "python",
   "pygments_lexer": "ipython3",
   "version": "3.9.2"
  },
  "orig_nbformat": 2,
  "kernelspec": {
   "name": "python3",
   "display_name": "Python 3",
   "language": "python"
  }
 },
 "nbformat": 4,
 "nbformat_minor": 2,
 "cells": [
  {
   "source": [
    "## Building a Bag of Words (BoW) model\n",
    "The cleaned dataset can be used to train a text classification model. The model would try to predict the assigned tag from the raw survey response. It would then be easier to process future survey data."
   ],
   "cell_type": "markdown",
   "metadata": {}
  },
  {
   "source": [
    "### Importing modules"
   ],
   "cell_type": "markdown",
   "metadata": {}
  },
  {
   "cell_type": "code",
   "execution_count": 1,
   "metadata": {},
   "outputs": [],
   "source": [
    "import pandas as pd\n",
    "from joblib import dump\n",
    "from nlpEngine import findKeywords \n",
    "from sklearn.feature_extraction.text import TfidfVectorizer\n",
    "from sklearn.model_selection import train_test_split\n",
    "from sklearn.naive_bayes import GaussianNB\n",
    "from sklearn.ensemble import RandomForestClassifier\n",
    "from sklearn.metrics import accuracy_score"
   ]
  },
  {
   "source": [
    "### Reading required data"
   ],
   "cell_type": "markdown",
   "metadata": {}
  },
  {
   "cell_type": "code",
   "execution_count": 23,
   "metadata": {},
   "outputs": [],
   "source": [
    "workbook = pd.read_excel('data.xlsx',sheet_name=None)\n",
    "responses = []\n",
    "for name, sheet in workbook.items():\n",
    "    sheet.dropna(how='all',inplace=True)\n",
    "    for i, student in sheet.iterrows():\n",
    "        response = None\n",
    "        try:\n",
    "            pathway = student['Based on your career aspirations, what pathway and course do you want to work towards?']\n",
    "        except KeyError:\n",
    "            pathway = student['Based on your career aspirations, what pathway do you want to work towards?']\n",
    "        if pathway == 'Junior College':\n",
    "            response = student['What is your 1st choice JC?']\n",
    "        elif pathway == 'International Baccalaureate':\n",
    "            response = student['What is your 1st choice IB course?']\n",
    "        elif pathway == 'A Levels/International Baccalaureate':\n",
    "            response = student['What is your 1st choice JC/IB?']\n",
    "        elif pathway == 'NAFA/LaSalle':\n",
    "            response = student['What is your 1st choice NAFA/LaSalle course?']\n",
    "        elif pathway == 'Polytechnic':\n",
    "            response =  student['What is your 1st choice polytechnic and course?']\n",
    "        elif pathway == 'Polytechnic Foundation Programme (PFP)':\n",
    "            response =  student['What is your 1st choice PFP course and polytechnic?']\n",
    "        elif pathway == 'Direct to Polytechnic Programme (DPP)':\n",
    "            response = student['What is your 1st choice Higher NITEC DPP course?']\n",
    "        industry = student['The industry I\\'m most interested in is']\n",
    "        responses.append([response,industry])\n",
    "\n",
    "responses = pd.DataFrame(responses,columns=['School','Industry'])\n",
    "responses['Industry'] = responses['Industry'].apply(findKeywords)\n",
    "responses['Industry'] = responses['Industry'].apply(lambda x : ' '.join(x))\n",
    "responses['School'] = responses['School'].apply(findKeywords)\n",
    "responses['School'] = responses['School'].apply(lambda x : ' '.join(x))"
   ]
  },
  {
   "cell_type": "code",
   "execution_count": 24,
   "metadata": {},
   "outputs": [],
   "source": [
    "schools = ['Anglo-Chinese JC','Anderson Serangonn JC','Catholic JC','Dunman High School','Eunoia JC','Hwa Chong Institution','Jurong Pioneer JC','Millenia Institude','Nanyang JC','National JC','Raffles Institution','River Valley High School','St Andrews JC','St Josephs Insitution','Tampines Meridian JC','Temasek JC','Victoria JC','Yishun Innova JC','Ngee Ann Polytechnic','Singapore Polytechnic','Temasek Polytechnic','Nanyang Polytechnic','Republic Polytechnic']\n",
    "industries = ['Arts&Media','Business&Finance','Engineering','Technology','Sciences','Medical']\n",
    "school_tags = []\n",
    "industry_tags = []\n",
    "workbook = pd.read_excel('processedData.xlsx',sheet_name=None)\n",
    "for name, sheet in workbook.items():\n",
    "    sheet.dropna(how='all',inplace=True)\n",
    "    for i, student in sheet.iterrows():\n",
    "        if student['Pathway'] != 'Progress to Sec 5':\n",
    "            school = student['School']\n",
    "            if school not in schools:\n",
    "                school = 'Uncertain'\n",
    "        else:\n",
    "            school = 'Uncertain'\n",
    "        school_tags.append(school)\n",
    "        industry = student['Industry']\n",
    "        if industry not in industries:\n",
    "            industry = 'Uncertain'\n",
    "        industry_tags.append(industry)"
   ]
  },
  {
   "source": [
    "### Encoding text\n",
    "Text cannot be processed by the model. It will be vectorised into an array of its TF-IDF."
   ],
   "cell_type": "markdown",
   "metadata": {}
  },
  {
   "cell_type": "code",
   "execution_count": 25,
   "metadata": {},
   "outputs": [],
   "source": [
    "school_matrix = TfidfVectorizer(max_features=180)\n",
    "school_choice_responses = school_matrix.fit_transform(responses['School']).toarray()\n",
    "school_response_train, school_response_test, school_tag_train, school_tag_test = train_test_split(school_choice_responses, school_tags)"
   ]
  },
  {
   "source": [
    "### Naive Bayes Model\n",
    "I will try different models to see which is the most accurate. Starting off with the naive bayes algorithm, which has a 0.77 accuracy score."
   ],
   "cell_type": "markdown",
   "metadata": {}
  },
  {
   "cell_type": "code",
   "execution_count": 26,
   "metadata": {},
   "outputs": [
    {
     "output_type": "stream",
     "name": "stdout",
     "text": [
      "Accuracy:  0.7210144927536232\n"
     ]
    }
   ],
   "source": [
    "school_model = GaussianNB()\n",
    "school_model.fit(school_response_train,school_tag_train)\n",
    "\n",
    "prediction = school_model.predict(school_response_test)\n",
    "print('Accuracy: ',accuracy_score(school_tag_test,prediction))"
   ]
  },
  {
   "source": [
    "### Random Forest Classifier\n",
    "The random forest classifier is another model that works well with text data. This model has a accuracy score of 0.97, which is much higher. This model will be used."
   ],
   "cell_type": "markdown",
   "metadata": {}
  },
  {
   "cell_type": "code",
   "execution_count": 27,
   "metadata": {},
   "outputs": [
    {
     "output_type": "stream",
     "name": "stdout",
     "text": [
      "Accuracy:  0.9855072463768116\n"
     ]
    }
   ],
   "source": [
    "school_model = RandomForestClassifier()\n",
    "school_model.fit(school_response_train,school_tag_train)\n",
    "\n",
    "prediction = school_model.predict(school_response_test)\n",
    "print('Accuracy: ',accuracy_score(school_tag_test,prediction))"
   ]
  },
  {
   "source": [
    "### Another model for predicting Industry\n",
    "Another model can be built to find out what industries student wish to work in. The same approach will be used."
   ],
   "cell_type": "markdown",
   "metadata": {}
  },
  {
   "cell_type": "code",
   "execution_count": 109,
   "metadata": {},
   "outputs": [
    {
     "output_type": "stream",
     "name": "stdout",
     "text": [
      "Accuracy:  0.9528985507246377\n"
     ]
    }
   ],
   "source": [
    "industry_matrix = TfidfVectorizer(max_features=350)\n",
    "industry_responses = industry_matrix.fit_transform(responses['Industry']).toarray()\n",
    "industry_response_train,industry_response_test,industry_tag_train,industry_tag_test = train_test_split(industry_responses,industry_tags)\n",
    "industry_model = RandomForestClassifier()\n",
    "industry_model.fit(industry_response_train,industry_tag_train)\n",
    "\n",
    "prediction = industry_model.predict(industry_response_test)\n",
    "print('Accuracy: ',accuracy_score(industry_tag_test,prediction))"
   ]
  },
  {
   "source": [
    "### Storing the models"
   ],
   "cell_type": "markdown",
   "metadata": {}
  },
  {
   "cell_type": "code",
   "execution_count": 115,
   "metadata": {},
   "outputs": [
    {
     "output_type": "execute_result",
     "data": {
      "text/plain": [
       "['industry_classifier.sav']"
      ]
     },
     "metadata": {},
     "execution_count": 115
    }
   ],
   "source": [
    "dump(school_matrix,'school_vectorizer.sav')\n",
    "dump(school_model,'school_classifier.sav')\n",
    "dump(industry_matrix,'industry_vectorizer.sav')\n",
    "dump(industry_model,'industry_classifier.sav')"
   ]
  }
 ]
}