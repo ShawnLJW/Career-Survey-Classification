{
 "metadata": {
  "language_info": {
   "codemirror_mode": {
    "name": "ipython",
    "version": 3
   },
   "file_extension": ".py",
   "mimetype": "text/x-python",
   "name": "python",
   "nbconvert_exporter": "python",
   "pygments_lexer": "ipython3",
   "version": "3.9.2-final"
  },
  "orig_nbformat": 2,
  "kernelspec": {
   "name": "python3",
   "display_name": "Python 3.9.2 64-bit",
   "metadata": {
    "interpreter": {
     "hash": "5a44db75c952c538e3bef7b633280a55db7eeb303d2d692da906341fae563ab1"
    }
   }
  }
 },
 "nbformat": 4,
 "nbformat_minor": 2,
 "cells": [
  {
   "cell_type": "code",
   "execution_count": 89,
   "metadata": {},
   "outputs": [],
   "source": [
    "import pandas as pd\n",
    "from joblib import dump\n",
    "from nlpEngine import findKeywords \n",
    "from sklearn.feature_extraction.text import CountVectorizer\n",
    "from sklearn.model_selection import train_test_split\n",
    "from sklearn.naive_bayes import GaussianNB\n",
    "from sklearn.ensemble import RandomForestClassifier\n",
    "from sklearn.metrics import accuracy_score"
   ]
  },
  {
   "cell_type": "code",
   "execution_count": 75,
   "metadata": {},
   "outputs": [
    {
     "output_type": "execute_result",
     "data": {
      "text/plain": [
       "                                              Response\n",
       "0                         diploma engineering business\n",
       "1                                raffle institution jc\n",
       "2                                       np accountancy\n",
       "3     singapore poly experience communication n design\n",
       "4             ngee ann polytechnic biomedical research\n",
       "...                                                ...\n",
       "1118                 design merchandise singapore poly\n",
       "1119                                   business course\n",
       "1120                      apparel design merchandising\n",
       "1121                                           nursing\n",
       "1122                                  business service\n",
       "\n",
       "[1089 rows x 1 columns]"
      ],
      "text/html": "<div>\n<style scoped>\n    .dataframe tbody tr th:only-of-type {\n        vertical-align: middle;\n    }\n\n    .dataframe tbody tr th {\n        vertical-align: top;\n    }\n\n    .dataframe thead th {\n        text-align: right;\n    }\n</style>\n<table border=\"1\" class=\"dataframe\">\n  <thead>\n    <tr style=\"text-align: right;\">\n      <th></th>\n      <th>Response</th>\n    </tr>\n  </thead>\n  <tbody>\n    <tr>\n      <th>0</th>\n      <td>diploma engineering business</td>\n    </tr>\n    <tr>\n      <th>1</th>\n      <td>raffle institution jc</td>\n    </tr>\n    <tr>\n      <th>2</th>\n      <td>np accountancy</td>\n    </tr>\n    <tr>\n      <th>3</th>\n      <td>singapore poly experience communication n design</td>\n    </tr>\n    <tr>\n      <th>4</th>\n      <td>ngee ann polytechnic biomedical research</td>\n    </tr>\n    <tr>\n      <th>...</th>\n      <td>...</td>\n    </tr>\n    <tr>\n      <th>1118</th>\n      <td>design merchandise singapore poly</td>\n    </tr>\n    <tr>\n      <th>1119</th>\n      <td>business course</td>\n    </tr>\n    <tr>\n      <th>1120</th>\n      <td>apparel design merchandising</td>\n    </tr>\n    <tr>\n      <th>1121</th>\n      <td>nursing</td>\n    </tr>\n    <tr>\n      <th>1122</th>\n      <td>business service</td>\n    </tr>\n  </tbody>\n</table>\n<p>1089 rows × 1 columns</p>\n</div>"
     },
     "metadata": {},
     "execution_count": 75
    }
   ],
   "source": [
    "workbook = pd.read_excel('data.xlsx',sheet_name=None)\n",
    "school_choice_responses = []\n",
    "for name, sheet in workbook.items():\n",
    "    for i, student in sheet.iterrows():\n",
    "        response = None\n",
    "        try:\n",
    "            pathway = student['Based on your career aspirations, what pathway and course do you want to work towards?']\n",
    "        except KeyError:\n",
    "            pathway = student['Based on your career aspirations, what pathway do you want to work towards?']\n",
    "        if pathway == 'Junior College':\n",
    "            response = student['What is your 1st choice JC?']\n",
    "        elif pathway == 'International Baccalaureate':\n",
    "            response = student['What is your 1st choice IB course?']\n",
    "        elif pathway == 'A Levels/International Baccalaureate':\n",
    "            response = student['What is your 1st choice JC/IB?']\n",
    "        elif pathway == 'NAFA/LaSalle':\n",
    "            response = student['What is your 1st choice NAFA/LaSalle course?']\n",
    "        elif pathway == 'Polytechnic':\n",
    "            response =  student['What is your 1st choice polytechnic and course?']\n",
    "        elif pathway == 'Polytechnic Foundation Programme (PFP)':\n",
    "            response =  student['What is your 1st choice PFP course and polytechnic?']\n",
    "        elif pathway == 'Direct to Polytechnic Programme (DPP)':\n",
    "            response = student['What is your 1st choice Higher NITEC DPP course?']\n",
    "        school_choice_responses.append(response)\n",
    "school_choice_responses = pd.DataFrame(school_choice_responses,columns=['Response']).dropna()\n",
    "school_choice_responses['Response'] = school_choice_responses['Response'].apply(findKeywords)\n",
    "school_choice_responses['Response'] = school_choice_responses['Response'].apply(lambda x : ' '.join(x))\n",
    "school_choice_responses\n"
   ]
  },
  {
   "cell_type": "code",
   "execution_count": 76,
   "metadata": {},
   "outputs": [],
   "source": [
    "matrix = CountVectorizer(max_features=1000)\n",
    "X = matrix.fit_transform(school_choice_responses['Response']).toarray()"
   ]
  },
  {
   "cell_type": "code",
   "execution_count": 77,
   "metadata": {},
   "outputs": [],
   "source": [
    "y = []\n",
    "workbook = pd.read_excel('processedData.xlsx',sheet_name=None)\n",
    "for name, sheet in workbook.items():\n",
    "    for i, student in sheet.iterrows():\n",
    "        if student['Pathway'] != 'Progress to Sec 5':\n",
    "            school = student['School']\n",
    "            y.append(school)\n"
   ]
  },
  {
   "cell_type": "code",
   "execution_count": 78,
   "metadata": {},
   "outputs": [],
   "source": [
    "schools = ['Anglo-Chinese JC','Anderson Serangonn JC','Catholic JC','Dunman High School','Eunoia JC','Hwa Chong Institution','Jurong Pioneer JC','Millenia Institude','Nanyang JC','National JC','Raffles Institution','River Valley High School','St Andrews JC','St Josephs Insitution','Tampines Meridian JC','Temasek JC','Victoria JC','Yishun Innova JC','Ngee Ann Polytechnic','Singapore Polytechnic','Temasek Polytechnic','Nanyang Polytechnic','Republic Polytechnic']\n",
    "new_X = []\n",
    "new_y = []\n",
    "for i in range(len(y)):\n",
    "    if y[i] in schools:\n",
    "        new_X.append(X[i])\n",
    "        new_y.append(y[i])\n",
    "X = new_X\n",
    "y = new_y\n",
    "\n",
    "X_train, X_test, y_train, y_test = train_test_split(X, y)"
   ]
  },
  {
   "cell_type": "code",
   "execution_count": 79,
   "metadata": {},
   "outputs": [
    {
     "output_type": "stream",
     "name": "stdout",
     "text": [
      "Accuracy:  0.9615384615384616\n"
     ]
    }
   ],
   "source": [
    "model = GaussianNB()\n",
    "model.fit(X_train,y_train)\n",
    "\n",
    "prediction = model.predict(X_test)\n",
    "print('Accuracy: ',accuracy_score(y_test,prediction))"
   ]
  },
  {
   "cell_type": "code",
   "execution_count": 80,
   "metadata": {},
   "outputs": [
    {
     "output_type": "stream",
     "name": "stdout",
     "text": [
      "Accuracy:  0.9711538461538461\n"
     ]
    }
   ],
   "source": [
    "model = RandomForestClassifier()\n",
    "model.fit(X_train,y_train)\n",
    "\n",
    "prediction = model.predict(X_test)\n",
    "print('Accuracy: ',accuracy_score(y_test,prediction))"
   ]
  },
  {
   "cell_type": "code",
   "execution_count": 88,
   "metadata": {},
   "outputs": [
    {
     "output_type": "stream",
     "name": "stdout",
     "text": [
      "['River Valley High School']\n"
     ]
    }
   ],
   "source": [
    "user_response = input()\n",
    "user_response = matrix.transform([user_response]).toarray()\n",
    "user_prediction = model.predict(user_response)\n",
    "print(user_prediction)"
   ]
  },
  {
   "cell_type": "code",
   "execution_count": 91,
   "metadata": {},
   "outputs": [
    {
     "output_type": "execute_result",
     "data": {
      "text/plain": [
       "['school_classifier.sav']"
      ]
     },
     "metadata": {},
     "execution_count": 91
    }
   ],
   "source": [
    "dump(matrix,'school_vectorizer.sav')\n",
    "dump(model,'school_classifier.sav')"
   ]
  }
 ]
}